{
 "cells": [
  {
   "cell_type": "code",
   "execution_count": null,
   "metadata": {},
   "outputs": [],
   "source": [
    "%load_ext autoreload\n",
    "%autoreload 2\n",
    "\n",
    "import sys\n",
    "sys.path.append('..')  \n",
    "\n",
    "import main\n",
    "import params\n",
    "import pandas as pd\n",
    "\n",
    "from ml_logic import data"
   ]
  },
  {
   "cell_type": "code",
   "execution_count": null,
   "metadata": {},
   "outputs": [],
   "source": [
    "#processed_data = data.ElecConsumDataPreprocessingTransformer().clean_data()\n",
    "#processed_data = data.GasConsumDataPreprocessingTransformer().clean_data()\n",
    "#processed_data = data.PopulationDataPreprocessingTransformer().clean_data()\n",
    "#processed_data = data.VehicleDataPreprocessingTransformer().clean_data()\n",
    "processed_data = data.combine_clean_data()\n",
    "# processed_data = main.main()\n",
    "\n",
    "print(processed_data)"
   ]
  },
  {
   "cell_type": "code",
   "execution_count": null,
   "metadata": {},
   "outputs": [],
   "source": [
    "processed_data = processed_data.iloc[:, :-17]\n",
    "processed_data = processed_data.drop(50)"
   ]
  },
  {
   "cell_type": "code",
   "execution_count": null,
   "metadata": {},
   "outputs": [],
   "source": []
  }
 ],
 "metadata": {
  "kernelspec": {
   "display_name": "sg-carbon-prediction",
   "language": "python",
   "name": "python3"
  },
  "language_info": {
   "codemirror_mode": {
    "name": "ipython",
    "version": 3
   },
   "file_extension": ".py",
   "mimetype": "text/x-python",
   "name": "python",
   "nbconvert_exporter": "python",
   "pygments_lexer": "ipython3",
   "version": "3.10.6"
  },
  "orig_nbformat": 4
 },
 "nbformat": 4,
 "nbformat_minor": 2
}
