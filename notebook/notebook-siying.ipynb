{
 "cells": [
  {
   "cell_type": "code",
   "execution_count": 3,
   "metadata": {},
   "outputs": [
    {
     "name": "stdout",
     "output_type": "stream",
     "text": [
      "The autoreload extension is already loaded. To reload it, use:\n",
      "  %reload_ext autoreload\n"
     ]
    }
   ],
   "source": [
    "%load_ext autoreload\n",
    "%autoreload 2\n",
    "\n",
    "import sys\n",
    "sys.path.append('..')  \n",
    "\n",
    "import main\n",
    "import params\n",
    "import pandas as pd\n",
    "\n",
    "from ml_logic import data"
   ]
  },
  {
   "cell_type": "code",
   "execution_count": 4,
   "metadata": {},
   "outputs": [
    {
     "name": "stdout",
     "output_type": "stream",
     "text": [
      "              planning_area         2005        2006        2007       2008  \\\n",
      "0    Ang Mo Kio_electricity     5311.327   5438.2813   5400.4988   5423.986   \n",
      "1            Ang Mo Kio_gas   4060.85885  3996.62605    3946.873  4039.4159   \n",
      "2     Ang Mo Kio_population     170120.0    171790.0    173360.0   175840.0   \n",
      "3        Ang Mo Kio_vehicle      35569.0     35569.0     35569.0    35569.0   \n",
      "4         Bedok_electricity  20640.33665  20734.1469  20630.5387  19983.279   \n",
      "..                      ...          ...         ...         ...        ...   \n",
      "215       Woodlands_vehicle      45222.0     45222.0     45222.0    45222.0   \n",
      "216      Yishun_electricity    1871.5844   1915.7504  2159.33235   2144.907   \n",
      "217              Yishun_gas   3521.63585   3502.2907  3496.74785  3536.6919   \n",
      "218       Yishun_population     175230.0    175800.0    178250.0   181060.0   \n",
      "219          Yishun_vehicle      43726.0     43726.0     43726.0    43726.0   \n",
      "\n",
      "            2009        2010        2011        2012        2013        2014  \\\n",
      "0     5879.37605   5914.9919  5784.47865   5995.3305    6167.379   6411.9053   \n",
      "1     4044.46745  3915.58535  3988.67005  4074.10695   4015.8641   3971.5077   \n",
      "2       179970.0    179920.0    179510.0    179850.0    179590.0    178890.0   \n",
      "3        35569.0     30778.0     30778.0     30778.0     30778.0     30778.0   \n",
      "4    21013.64815  21995.0267  21072.1698  21553.2256  21893.4432  22349.5906   \n",
      "..           ...         ...         ...         ...         ...         ...   \n",
      "215      45222.0     61909.0     61909.0     61909.0     61909.0     61909.0   \n",
      "216    2310.6536   2416.4429   2412.2575  2488.39455    2641.545  2786.56265   \n",
      "217   3511.04995  3460.55995   3484.1483  3505.09995   3569.7331   3824.0174   \n",
      "218     185000.0    185810.0    186100.0    187830.0    188790.0    193420.0   \n",
      "219      43726.0     38440.0     38440.0     38440.0     38440.0     38440.0   \n",
      "\n",
      "            2015         2016         2017        2018        2019  \\\n",
      "0     6649.71745   9090.62675      8909.87  18123.1696  18070.9915   \n",
      "1     3929.48285    3832.6687   3904.54895  3773.26985  3637.61155   \n",
      "2       175660.0     171460.0     167810.0    166580.0    164970.0   \n",
      "3        31800.0      31800.0      31800.0     31800.0     31800.0   \n",
      "4    23260.10465  30144.54705  28623.85795  39286.3251    39717.78   \n",
      "..           ...          ...          ...         ...         ...   \n",
      "215      56200.0      56200.0      56200.0     56200.0     56200.0   \n",
      "216    3287.1013   8925.29155    9017.8914  21461.4409  22839.4966   \n",
      "217   4091.69345    4099.7183    4391.3839   4275.6224  4263.69605   \n",
      "218     202730.0     206550.0     211150.0    215660.0    220990.0   \n",
      "219      36500.0      36500.0      36500.0     36500.0     36500.0   \n",
      "\n",
      "            2020         2021  \n",
      "0    19894.75405    19662.285  \n",
      "1     4598.22545    4027.7471  \n",
      "2       163460.0     160030.0  \n",
      "3        24560.0      24560.0  \n",
      "4    43273.77795   43034.6143  \n",
      "..           ...          ...  \n",
      "215      49665.0      49665.0  \n",
      "216  25529.16945  25385.62145  \n",
      "217    5585.1681    4916.6669  \n",
      "218     222590.0     220000.0  \n",
      "219      38155.0      38155.0  \n",
      "\n",
      "[220 rows x 18 columns]\n"
     ]
    }
   ],
   "source": [
    "#processed_data = data.ElecConsumDataPreprocessingTransformer().clean_data()\n",
    "#processed_data = data.GasConsumDataPreprocessingTransformer().clean_data()\n",
    "#processed_data = data.PopulationDataPreprocessingTransformer().clean_data()\n",
    "#processed_data = data.VehicleDataPreprocessingTransformer().clean_data()\n",
    "processed_data = data.combine_clean_data()\n",
    "# processed_data = main.main()\n",
    "\n",
    "print(processed_data)"
   ]
  },
  {
   "cell_type": "code",
   "execution_count": null,
   "metadata": {},
   "outputs": [],
   "source": [
    "processed_data['planning_area'].value_counts"
   ]
  },
  {
   "cell_type": "code",
   "execution_count": null,
   "metadata": {},
   "outputs": [],
   "source": [
    "processed_data.head()"
   ]
  },
  {
   "cell_type": "code",
   "execution_count": null,
   "metadata": {},
   "outputs": [],
   "source": []
  }
 ],
 "metadata": {
  "kernelspec": {
   "display_name": "sg-carbon-prediction",
   "language": "python",
   "name": "python3"
  },
  "language_info": {
   "codemirror_mode": {
    "name": "ipython",
    "version": 3
   },
   "file_extension": ".py",
   "mimetype": "text/x-python",
   "name": "python",
   "nbconvert_exporter": "python",
   "pygments_lexer": "ipython3",
   "version": "3.10.6"
  },
  "orig_nbformat": 4
 },
 "nbformat": 4,
 "nbformat_minor": 2
}
