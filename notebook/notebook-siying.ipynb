{
 "cells": [
  {
   "cell_type": "code",
   "execution_count": 4,
   "metadata": {},
   "outputs": [
    {
     "name": "stdout",
     "output_type": "stream",
     "text": [
      "The autoreload extension is already loaded. To reload it, use:\n",
      "  %reload_ext autoreload\n"
     ]
    }
   ],
   "source": [
    "%load_ext autoreload\n",
    "%autoreload 2\n",
    "\n",
    "import sys\n",
    "sys.path.append('..')  \n",
    "import xgboost\n",
    "\n",
    "import params\n",
    "import interface.main\n",
    "import ml_logic\n",
    "import pandas as pd\n",
    "import tensorflow as tf\n",
    "from interface import main\n",
    "\n",
    "\n",
    "from ml_logic import data\n",
    "from ml_logic import model_carbon"
   ]
  },
  {
   "cell_type": "code",
   "execution_count": 5,
   "metadata": {},
   "outputs": [
    {
     "name": "stdout",
     "output_type": "stream",
     "text": [
      "✅ Data saved to bigquery, with shape (220, 18)\n",
      "✅ preprocess() done \n",
      "\n"
     ]
    }
   ],
   "source": [
    "main.preprocess()"
   ]
  },
  {
   "cell_type": "code",
   "execution_count": 7,
   "metadata": {},
   "outputs": [
    {
     "name": "stderr",
     "output_type": "stream",
     "text": [
      "WARNING:absl:At this time, the v2.11+ optimizer `tf.keras.optimizers.Adam` runs slowly on M1/M2 Macs, please use the legacy Keras optimizer instead, located at `tf.keras.optimizers.legacy.Adam`.\n",
      "WARNING:absl:At this time, the v2.11+ optimizer `tf.keras.optimizers.Adam` runs slowly on M1/M2 Macs, please use the legacy Keras optimizer instead, located at `tf.keras.optimizers.legacy.Adam`.\n"
     ]
    },
    {
     "name": "stdout",
     "output_type": "stream",
     "text": [
      "✅ Latest model downloaded from cloud storage\n"
     ]
    },
    {
     "name": "stderr",
     "output_type": "stream",
     "text": [
      "/Users/siyingpng/.pyenv/versions/3.10.6/envs/sg-carbon-prediction/lib/python3.10/site-packages/keras/src/engine/training.py:3079: UserWarning: You are saving your model as an HDF5 file via `model.save()`. This file format is considered legacy. We recommend using instead the native Keras format, e.g. `model.save('my_model.keras')`.\n",
      "  saving_api.save_model(\n"
     ]
    },
    {
     "name": "stdout",
     "output_type": "stream",
     "text": [
      "✅ Model saved to local machine\n",
      "✅ Model saved to GCS\n",
      "✅ Results saved locally\n",
      "✅ train() done \n",
      "\n"
     ]
    },
    {
     "data": {
      "text/plain": [
       "(23067.630859375, 0.6954545378684998)"
      ]
     },
     "execution_count": 7,
     "metadata": {},
     "output_type": "execute_result"
    }
   ],
   "source": [
    "main.train()"
   ]
  },
  {
   "cell_type": "code",
   "execution_count": null,
   "metadata": {},
   "outputs": [],
   "source": [
    "main.pred()"
   ]
  },
  {
   "cell_type": "code",
   "execution_count": 5,
   "metadata": {},
   "outputs": [
    {
     "data": {
      "text/plain": [
       "'/Users/siyingpng/code/AnnK89/data'"
      ]
     },
     "execution_count": 5,
     "metadata": {},
     "output_type": "execute_result"
    }
   ],
   "source": [
    "params.LOCAL_REGISTRY_PATH"
   ]
  },
  {
   "cell_type": "code",
   "execution_count": 61,
   "metadata": {},
   "outputs": [
    {
     "name": "stdout",
     "output_type": "stream",
     "text": [
      "✅ Data loaded, with shape (220, 18)\n"
     ]
    },
    {
     "name": "stderr",
     "output_type": "stream",
     "text": [
      "WARNING:absl:At this time, the v2.11+ optimizer `tf.keras.optimizers.Adam` runs slowly on M1/M2 Macs, please use the legacy Keras optimizer instead, located at `tf.keras.optimizers.legacy.Adam`.\n",
      "WARNING:absl:At this time, the v2.11+ optimizer `tf.keras.optimizers.Adam` runs slowly on M1/M2 Macs, please use the legacy Keras optimizer instead, located at `tf.keras.optimizers.legacy.Adam`.\n"
     ]
    },
    {
     "name": "stdout",
     "output_type": "stream",
     "text": [
      "✅ Latest model downloaded from cloud storage\n"
     ]
    },
    {
     "ename": "ValueError",
     "evalue": "Found input variables with inconsistent numbers of samples: [528, 220]",
     "output_type": "error",
     "traceback": [
      "\u001b[0;31m---------------------------------------------------------------------------\u001b[0m",
      "\u001b[0;31mValueError\u001b[0m                                Traceback (most recent call last)",
      "\u001b[1;32m/Users/siyingpng/code/AnnK89/sg-carbon-prediction/notebook/notebook-siying.ipynb Cell 7\u001b[0m line \u001b[0;36m1\n\u001b[0;32m----> <a href='vscode-notebook-cell:/Users/siyingpng/code/AnnK89/sg-carbon-prediction/notebook/notebook-siying.ipynb#W2sZmlsZQ%3D%3D?line=0'>1</a>\u001b[0m df \u001b[39m=\u001b[39m interface\u001b[39m.\u001b[39;49mmain\u001b[39m.\u001b[39;49mtrain()\n\u001b[1;32m      <a href='vscode-notebook-cell:/Users/siyingpng/code/AnnK89/sg-carbon-prediction/notebook/notebook-siying.ipynb#W2sZmlsZQ%3D%3D?line=1'>2</a>\u001b[0m df[X_train]\u001b[39m.\u001b[39mshape()\n",
      "File \u001b[0;32m~/code/AnnK89/sg-carbon-prediction/notebook/../interface/main.py:44\u001b[0m, in \u001b[0;36mtrain\u001b[0;34m(learning_rate, patience)\u001b[0m\n\u001b[1;32m     41\u001b[0m     model \u001b[39m=\u001b[39m model_carbon\u001b[39m.\u001b[39minitialize_model(input_shape\u001b[39m=\u001b[39mX_train\u001b[39m.\u001b[39mshape[\u001b[39m1\u001b[39m:])\n\u001b[1;32m     43\u001b[0m model \u001b[39m=\u001b[39m model_carbon\u001b[39m.\u001b[39mcompile_model(model, learning_rate\u001b[39m=\u001b[39mlearning_rate)\n\u001b[0;32m---> 44\u001b[0m model \u001b[39m=\u001b[39m model_carbon\u001b[39m.\u001b[39;49mtune_model(X_train, X_test, y_train, y_test)\n\u001b[1;32m     45\u001b[0m model, history \u001b[39m=\u001b[39m model_carbon\u001b[39m.\u001b[39mtrain_model(\n\u001b[1;32m     46\u001b[0m     model, X_train, y_train,\n\u001b[1;32m     47\u001b[0m     patience\u001b[39m=\u001b[39mpatience,\n\u001b[1;32m     48\u001b[0m )\n\u001b[1;32m     50\u001b[0m mae \u001b[39m=\u001b[39m np\u001b[39m.\u001b[39mmin(history\u001b[39m.\u001b[39mhistory[\u001b[39m'\u001b[39m\u001b[39mmae\u001b[39m\u001b[39m'\u001b[39m])\n",
      "File \u001b[0;32m~/code/AnnK89/sg-carbon-prediction/notebook/../ml_logic/model_carbon.py:141\u001b[0m, in \u001b[0;36mtune_model\u001b[0;34m(X_train, X_test, y_train, y_test)\u001b[0m\n\u001b[1;32m    139\u001b[0m xgb_regressor \u001b[39m=\u001b[39m xgb\u001b[39m.\u001b[39mXGBRegressor(objective\u001b[39m=\u001b[39m\u001b[39m'\u001b[39m\u001b[39mreg:squarederror\u001b[39m\u001b[39m'\u001b[39m)\n\u001b[1;32m    140\u001b[0m grid_search \u001b[39m=\u001b[39m GridSearchCV(xgb_regressor, param_grid, cv\u001b[39m=\u001b[39m\u001b[39m5\u001b[39m, scoring\u001b[39m=\u001b[39m\u001b[39m'\u001b[39m\u001b[39mneg_mean_absolute_error\u001b[39m\u001b[39m'\u001b[39m, n_jobs\u001b[39m=\u001b[39m\u001b[39m-\u001b[39m\u001b[39m1\u001b[39m)\n\u001b[0;32m--> 141\u001b[0m grid_search\u001b[39m.\u001b[39;49mfit(X_train, y_train)\n\u001b[1;32m    143\u001b[0m best_xgb_model \u001b[39m=\u001b[39m grid_search\u001b[39m.\u001b[39mbest_estimator_\n\u001b[1;32m    144\u001b[0m y_pred \u001b[39m=\u001b[39m best_xgb_model\u001b[39m.\u001b[39mpredict(X_test)\n",
      "File \u001b[0;32m~/.pyenv/versions/3.10.6/envs/sg-carbon-prediction/lib/python3.10/site-packages/sklearn/base.py:1152\u001b[0m, in \u001b[0;36m_fit_context.<locals>.decorator.<locals>.wrapper\u001b[0;34m(estimator, *args, **kwargs)\u001b[0m\n\u001b[1;32m   1145\u001b[0m     estimator\u001b[39m.\u001b[39m_validate_params()\n\u001b[1;32m   1147\u001b[0m \u001b[39mwith\u001b[39;00m config_context(\n\u001b[1;32m   1148\u001b[0m     skip_parameter_validation\u001b[39m=\u001b[39m(\n\u001b[1;32m   1149\u001b[0m         prefer_skip_nested_validation \u001b[39mor\u001b[39;00m global_skip_validation\n\u001b[1;32m   1150\u001b[0m     )\n\u001b[1;32m   1151\u001b[0m ):\n\u001b[0;32m-> 1152\u001b[0m     \u001b[39mreturn\u001b[39;00m fit_method(estimator, \u001b[39m*\u001b[39;49margs, \u001b[39m*\u001b[39;49m\u001b[39m*\u001b[39;49mkwargs)\n",
      "File \u001b[0;32m~/.pyenv/versions/3.10.6/envs/sg-carbon-prediction/lib/python3.10/site-packages/sklearn/model_selection/_search.py:806\u001b[0m, in \u001b[0;36mBaseSearchCV.fit\u001b[0;34m(self, X, y, groups, **fit_params)\u001b[0m\n\u001b[1;32m    803\u001b[0m     \u001b[39mself\u001b[39m\u001b[39m.\u001b[39m_check_refit_for_multimetric(scorers)\n\u001b[1;32m    804\u001b[0m     refit_metric \u001b[39m=\u001b[39m \u001b[39mself\u001b[39m\u001b[39m.\u001b[39mrefit\n\u001b[0;32m--> 806\u001b[0m X, y, groups \u001b[39m=\u001b[39m indexable(X, y, groups)\n\u001b[1;32m    807\u001b[0m fit_params \u001b[39m=\u001b[39m _check_fit_params(X, fit_params)\n\u001b[1;32m    809\u001b[0m cv_orig \u001b[39m=\u001b[39m check_cv(\u001b[39mself\u001b[39m\u001b[39m.\u001b[39mcv, y, classifier\u001b[39m=\u001b[39mis_classifier(estimator))\n",
      "File \u001b[0;32m~/.pyenv/versions/3.10.6/envs/sg-carbon-prediction/lib/python3.10/site-packages/sklearn/utils/validation.py:453\u001b[0m, in \u001b[0;36mindexable\u001b[0;34m(*iterables)\u001b[0m\n\u001b[1;32m    434\u001b[0m \u001b[39m\u001b[39m\u001b[39m\"\"\"Make arrays indexable for cross-validation.\u001b[39;00m\n\u001b[1;32m    435\u001b[0m \n\u001b[1;32m    436\u001b[0m \u001b[39mChecks consistent length, passes through None, and ensures that everything\u001b[39;00m\n\u001b[0;32m   (...)\u001b[0m\n\u001b[1;32m    449\u001b[0m \u001b[39m    sparse matrix, or dataframe) or `None`.\u001b[39;00m\n\u001b[1;32m    450\u001b[0m \u001b[39m\"\"\"\u001b[39;00m\n\u001b[1;32m    452\u001b[0m result \u001b[39m=\u001b[39m [_make_indexable(X) \u001b[39mfor\u001b[39;00m X \u001b[39min\u001b[39;00m iterables]\n\u001b[0;32m--> 453\u001b[0m check_consistent_length(\u001b[39m*\u001b[39;49mresult)\n\u001b[1;32m    454\u001b[0m \u001b[39mreturn\u001b[39;00m result\n",
      "File \u001b[0;32m~/.pyenv/versions/3.10.6/envs/sg-carbon-prediction/lib/python3.10/site-packages/sklearn/utils/validation.py:407\u001b[0m, in \u001b[0;36mcheck_consistent_length\u001b[0;34m(*arrays)\u001b[0m\n\u001b[1;32m    405\u001b[0m uniques \u001b[39m=\u001b[39m np\u001b[39m.\u001b[39munique(lengths)\n\u001b[1;32m    406\u001b[0m \u001b[39mif\u001b[39;00m \u001b[39mlen\u001b[39m(uniques) \u001b[39m>\u001b[39m \u001b[39m1\u001b[39m:\n\u001b[0;32m--> 407\u001b[0m     \u001b[39mraise\u001b[39;00m \u001b[39mValueError\u001b[39;00m(\n\u001b[1;32m    408\u001b[0m         \u001b[39m\"\u001b[39m\u001b[39mFound input variables with inconsistent numbers of samples: \u001b[39m\u001b[39m%r\u001b[39;00m\u001b[39m\"\u001b[39m\n\u001b[1;32m    409\u001b[0m         \u001b[39m%\u001b[39m [\u001b[39mint\u001b[39m(l) \u001b[39mfor\u001b[39;00m l \u001b[39min\u001b[39;00m lengths]\n\u001b[1;32m    410\u001b[0m     )\n",
      "\u001b[0;31mValueError\u001b[0m: Found input variables with inconsistent numbers of samples: [528, 220]"
     ]
    }
   ],
   "source": [
    "df = interface.main.train()\n",
    "df[X_train].shape()"
   ]
  },
  {
   "cell_type": "code",
   "execution_count": null,
   "metadata": {},
   "outputs": [],
   "source": [
    "df = data.get_data_from_bq()\n",
    "\n",
    "X_train, X_test, y_train, y_test = data.split_train_test_data(df)\n",
    "X_train.shape()"
   ]
  },
  {
   "cell_type": "code",
   "execution_count": 20,
   "metadata": {},
   "outputs": [
    {
     "name": "stderr",
     "output_type": "stream",
     "text": [
      "WARNING:absl:At this time, the v2.11+ optimizer `tf.keras.optimizers.Adam` runs slowly on M1/M2 Macs, please use the legacy Keras optimizer instead, located at `tf.keras.optimizers.legacy.Adam`.\n"
     ]
    },
    {
     "name": "stdout",
     "output_type": "stream",
     "text": [
      "✅ Latest model downloaded from cloud storage\n"
     ]
    },
    {
     "data": {
      "text/plain": [
       "<keras.src.engine.sequential.Sequential at 0x1355fa9e0>"
      ]
     },
     "execution_count": 20,
     "metadata": {},
     "output_type": "execute_result"
    }
   ],
   "source": [
    "df = data.load_model_from_gcs('sg-carbon-prediction', params.LOCAL_REGISTRY_PATH)\n",
    "df"
   ]
  },
  {
   "cell_type": "code",
   "execution_count": 24,
   "metadata": {},
   "outputs": [
    {
     "name": "stdout",
     "output_type": "stream",
     "text": [
      "✅ Data loaded, with shape (220, 18)\n",
      "\u001b[34m\n",
      "Load latest model from GCS...\u001b[0m\n"
     ]
    },
    {
     "name": "stderr",
     "output_type": "stream",
     "text": [
      "WARNING:absl:At this time, the v2.11+ optimizer `tf.keras.optimizers.Adam` runs slowly on M1/M2 Macs, please use the legacy Keras optimizer instead, located at `tf.keras.optimizers.legacy.Adam`.\n"
     ]
    },
    {
     "name": "stdout",
     "output_type": "stream",
     "text": [
      "✅ Latest model downloaded from cloud storage\n",
      "2/2 [==============================] - 0s 3ms/step\n",
      "✅ pred() done\n"
     ]
    },
    {
     "data": {
      "text/plain": [
       "array([[[  5975.0444,   3482.4834, 106003.12  ,  23362.629 ],\n",
       "        [ 18306.732 ,   3354.5342, 107977.56  ,  24748.037 ],\n",
       "        [ 22382.857 ,   2022.348 , 106154.29  ,  17992.92  ],\n",
       "        [ 12139.447 ,   2457.4336, 102809.1   ,  24269.512 ],\n",
       "        [ 23061.215 ,  -1161.1006,  98758.625 ,  20365.502 ]],\n",
       "\n",
       "       [[  5831.483 ,   3398.7139, 103454.36  ,  22800.97  ],\n",
       "        [ 17866.63  ,   3273.842 , 105381.52  ,  24153.113 ],\n",
       "        [ 21844.674 ,   1973.7391, 103602.04  ,  17560.256 ],\n",
       "        [ 11847.549 ,   2398.495 , 100337.336 ,  23686.117 ],\n",
       "        [ 22506.812 ,  -1133.2009,  96384.266 ,  19875.92  ]],\n",
       "\n",
       "       [[  6435.4   ,   3750.7002, 114163.25  ,  25161.146 ],\n",
       "        [ 19716.232 ,   3612.839 , 116289.95  ,  26653.207 ],\n",
       "        [ 24106.002 ,   2178.2368, 114326.16  ,  19377.875 ],\n",
       "        [ 13074.178 ,   2647.0706, 110723.61  ,  26137.86  ],\n",
       "        [ 24837.031 ,  -1250.8141, 106361.445 ,  21932.91  ]],\n",
       "\n",
       "       ...,\n",
       "\n",
       "       [[  4488.2207,   2616.05  ,  79637.45  ,  17551.697 ],\n",
       "        [ 13752.786 ,   2519.7654,  81120.586 ,  18592.607 ],\n",
       "        [ 16815.537 ,   1519.0975,  79751.13  ,  13517.815 ],\n",
       "        [  9119.554 ,   1845.4008,  77237.664 ,  18232.959 ],\n",
       "        [ 17324.102 ,   -871.551 ,  74194.24  ,  15300.881 ]],\n",
       "\n",
       "       [[  7071.6445,   4121.5225, 125454.91  ,  27649.748 ],\n",
       "        [ 21666.1   ,   3969.9824, 127791.625 ,  29289.39  ],\n",
       "        [ 26490.184 ,   2393.5713, 125633.78  ,  21294.613 ],\n",
       "        [ 14367.185 ,   2908.689 , 121674.98  ,  28722.98  ],\n",
       "        [ 27293.22  ,  -1374.2596, 116881.27  ,  24102.398 ]],\n",
       "\n",
       "       [[  6441.589 ,   3754.3564, 114277.984 ,  25186.459 ],\n",
       "        [ 19735.871 ,   3616.3806, 116406.58  ,  26679.965 ],\n",
       "        [ 24130.13  ,   2180.309 , 114440.96  ,  19397.46  ],\n",
       "        [ 13087.161 ,   2649.437 , 110834.79  ,  26164.027 ],\n",
       "        [ 24861.654 ,  -1251.8022, 106468.13  ,  21955.078 ]]],\n",
       "      dtype=float32)"
      ]
     },
     "execution_count": 24,
     "metadata": {},
     "output_type": "execute_result"
    }
   ],
   "source": [
    "interface.main.pred()"
   ]
  },
  {
   "cell_type": "markdown",
   "metadata": {},
   "source": []
  },
  {
   "cell_type": "code",
   "execution_count": 26,
   "metadata": {},
   "outputs": [
    {
     "name": "stdout",
     "output_type": "stream",
     "text": [
      "✅ Data loaded, with shape (220, 18)\n"
     ]
    }
   ],
   "source": [
    "df = ml_logic.data.get_data_from_bq()"
   ]
  },
  {
   "cell_type": "code",
   "execution_count": 21,
   "metadata": {},
   "outputs": [
    {
     "data": {
      "text/plain": [
       "<keras.src.engine.sequential.Sequential at 0x1355fa9e0>"
      ]
     },
     "execution_count": 21,
     "metadata": {},
     "output_type": "execute_result"
    }
   ],
   "source": [
    "df"
   ]
  },
  {
   "cell_type": "code",
   "execution_count": 2,
   "metadata": {},
   "outputs": [
    {
     "name": "stdout",
     "output_type": "stream",
     "text": [
      "              planning_area    2005    2006    2007    2008    2009    2010  \\\n",
      "0    Ang Mo Kio_electricity    5311    5438    5400    5423    5879    5914   \n",
      "1            Ang Mo Kio_gas    4060    3996    3946    4039    4044    3915   \n",
      "2     Ang Mo Kio_population  170120  171790  173360  175840  179970  179920   \n",
      "3        Ang Mo Kio_vehicle   35569   35569   35569   35569   35569   30778   \n",
      "4         Bedok_electricity   20640   20734   20630   19983   21013   21995   \n",
      "..                      ...     ...     ...     ...     ...     ...     ...   \n",
      "215       Woodlands_vehicle   45222   45222   45222   45222   45222   61909   \n",
      "216      Yishun_electricity    1871    1915    2159    2144    2310    2416   \n",
      "217              Yishun_gas    3521    3502    3496    3536    3511    3460   \n",
      "218       Yishun_population  175230  175800  178250  181060  185000  185810   \n",
      "219          Yishun_vehicle   43726   43726   43726   43726   43726   38440   \n",
      "\n",
      "       2011    2012    2013    2014    2015    2016    2017    2018    2019  \\\n",
      "0      5784    5995    6167    6411    6649    9090    8909   18123   18070   \n",
      "1      3988    4074    4015    3971    3929    3832    3904    3773    3637   \n",
      "2    179510  179850  179590  178890  175660  171460  167810  166580  164970   \n",
      "3     30778   30778   30778   30778   31800   31800   31800   31800   31800   \n",
      "4     21072   21553   21893   22349   23260   30144   28623   39286   39717   \n",
      "..      ...     ...     ...     ...     ...     ...     ...     ...     ...   \n",
      "215   61909   61909   61909   61909   56200   56200   56200   56200   56200   \n",
      "216    2412    2488    2641    2786    3287    8925    9017   21461   22839   \n",
      "217    3484    3505    3569    3824    4091    4099    4391    4275    4263   \n",
      "218  186100  187830  188790  193420  202730  206550  211150  215660  220990   \n",
      "219   38440   38440   38440   38440   36500   36500   36500   36500   36500   \n",
      "\n",
      "       2020    2021  \n",
      "0     19894   19662  \n",
      "1      4598    4027  \n",
      "2    163460  160030  \n",
      "3     24560   24560  \n",
      "4     43273   43034  \n",
      "..      ...     ...  \n",
      "215   49665   49665  \n",
      "216   25529   25385  \n",
      "217    5585    4916  \n",
      "218  222590  220000  \n",
      "219   38155   38155  \n",
      "\n",
      "[220 rows x 18 columns]\n"
     ]
    }
   ],
   "source": [
    "#processed_data = data.ElecConsumDataPreprocessingTransformer().clean_data()\n",
    "#processed_data = data.GasConsumDataPreprocessingTransformer().clean_data()\n",
    "#processed_data = data.PopulationDataPreprocessingTransformer().clean_data()\n",
    "#processed_data = data.VehicleDataPreprocessingTransformer().clean_data()\n",
    "processed_data = data.combine_clean_data()\n",
    "# processed_data = main.main()\n",
    "\n",
    "print(processed_data)"
   ]
  }
 ],
 "metadata": {
  "kernelspec": {
   "display_name": "sg-carbon-prediction",
   "language": "python",
   "name": "python3"
  },
  "language_info": {
   "codemirror_mode": {
    "name": "ipython",
    "version": 3
   },
   "file_extension": ".py",
   "mimetype": "text/x-python",
   "name": "python",
   "nbconvert_exporter": "python",
   "pygments_lexer": "ipython3",
   "version": "3.10.6"
  },
  "orig_nbformat": 4
 },
 "nbformat": 4,
 "nbformat_minor": 2
}
